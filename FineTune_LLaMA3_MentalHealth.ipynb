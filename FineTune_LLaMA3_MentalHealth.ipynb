{
 "cells": [
  {
   "cell_type": "code",
   "execution_count": null,
   "id": "5f7ef5d3",
   "metadata": {},
   "outputs": [],
   "source": [
    "#Install required libraries\n",
    "!pip install -U transformers datasets peft trl accelerate bitsandbytes\n",
    "!pip install \"unsloth @ git+https://github.com/unslothai/unsloth.git\"\n",
    "!pip install unsloth_zoo\n"
   ]
  },
  {
   "cell_type": "code",
   "execution_count": null,
   "id": "27b87dde",
   "metadata": {},
   "outputs": [],
   "source": [
    "from datasets import load_dataset\n",
    "\n",
    "# Load dataset\n",
    "dataset = load_dataset(\"ShivomH/Mental-Health-Conversations\")\n",
    "\n",
    "# Shuffle and slice first 5000 rows \n",
    "dataset_small = dataset[\"train\"].shuffle(seed=42).select(range(5000))\n"
   ]
  },
  {
   "cell_type": "code",
   "execution_count": null,
   "id": "97b3d2c1",
   "metadata": {},
   "outputs": [],
   "source": [
    "def format_chat(example):\n",
    "    return {\n",
    "        \"text\": f\"<|system|>\\n{example['instruction']}\\n<|user|>\\n{example['input']}\\n<|assistant|>\\n{example['response']}\"\n",
    "    }\n",
    "\n",
    "formatted_dataset = dataset_small.map(format_chat)\n"
   ]
  },
  {
   "cell_type": "code",
   "execution_count": null,
   "id": "2e802367",
   "metadata": {},
   "outputs": [],
   "source": [
    "from unsloth import FastLanguageModel\n",
    "\n",
    "model, tokenizer = FastLanguageModel.from_pretrained(\n",
    "    model_name = \"unsloth/llama-3-8b-bnb-4bit\", \n",
    "    max_seq_length = 2048,\n",
    "    dtype = \"float16\",\n",
    "    load_in_4bit = True,\n",
    ")\n"
   ]
  },
  {
   "cell_type": "code",
   "execution_count": null,
   "id": "c791bc3c",
   "metadata": {},
   "outputs": [],
   "source": [
    "from peft import PeftModel\n",
    "\n",
    "if not isinstance(model, PeftModel):\n",
    "    model = FastLanguageModel.get_peft_model(\n",
    "        model,\n",
    "        r = 8,\n",
    "        lora_alpha = 16,\n",
    "        lora_dropout = 0.0,\n",
    "        target_modules = [\n",
    "            \"q_proj\", \"k_proj\", \"v_proj\", \"o_proj\",\n",
    "            \"gate_proj\", \"up_proj\", \"down_proj\"\n",
    "        ],\n",
    "        bias = \"none\"\n",
    "    )\n",
    "else:\n",
    "    print(\"LoRA already applied.\")\n"
   ]
  },
  {
   "cell_type": "code",
   "execution_count": null,
   "id": "ab015634",
   "metadata": {},
   "outputs": [],
   "source": [
    "def tokenize(example):\n",
    "    tokens = tokenizer(\n",
    "        example[\"text\"],\n",
    "        truncation=True,\n",
    "        padding=\"max_length\",\n",
    "        max_length=2048,\n",
    "    )\n",
    "    tokens[\"labels\"] = tokens[\"input_ids\"].copy()\n",
    "    return tokens\n",
    "\n",
    "tokenized_dataset = formatted_dataset.map(tokenize, remove_columns=formatted_dataset.column_names)\n"
   ]
  },
  {
   "cell_type": "code",
   "execution_count": null,
   "id": "5b1d5718",
   "metadata": {},
   "outputs": [],
   "source": [
    "from transformers import TrainingArguments\n",
    "\n",
    "training_args = TrainingArguments(\n",
    "    output_dir = \"llama3-mentalhealth\",\n",
    "    per_device_train_batch_size = 1,\n",
    "    gradient_accumulation_steps = 2,\n",
    "    num_train_epochs = 1,\n",
    "    learning_rate = 2e-5,\n",
    "    logging_steps = 10,\n",
    "    save_steps = 100,\n",
    "    fp16 = True,\n",
    "    report_to = \"none\",\n",
    ")\n"
   ]
  },
  {
   "cell_type": "code",
   "execution_count": null,
   "id": "ba1d292f",
   "metadata": {},
   "outputs": [],
   "source": [
    "from transformers import Trainer\n",
    "\n",
    "trainer = Trainer(\n",
    "    model = model,\n",
    "    args = training_args,\n",
    "    train_dataset = tokenized_dataset,\n",
    "    tokenizer = tokenizer,\n",
    ")\n",
    "\n",
    "trainer.train()\n"
   ]
  }
 ],
 "metadata": {
  "language_info": {
   "name": "python"
  }
 },
 "nbformat": 4,
 "nbformat_minor": 5
}
